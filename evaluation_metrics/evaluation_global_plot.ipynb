{
 "cells": [
  {
   "cell_type": "code",
   "execution_count": null,
   "metadata": {},
   "outputs": [],
   "source": [
    "import numpy as np\n",
    "import matplotlib.pyplot as plt\n",
    "import pandas as pd\n",
    "import matplotlib\n",
    "import os\n",
    "import csv"
   ]
  },
  {
   "cell_type": "code",
   "execution_count": null,
   "metadata": {},
   "outputs": [],
   "source": [
    "yrst = 1991\n",
    "yrend = 2021\n",
    "modlist = ['TOM12_TJ_GEA0', 'TOM12_TJ_GEA1', 'TOM12_TJ_CNA1','RIV12_PT_NC01', 'RIV12_PT_NC02', 'RIV12_PT_ER23','RIV12_PT_ER24']\n",
    "\n",
    "modlist1 = ['TOM12_TJ_GEA0', 'TOM12_TJ_GEA1', 'TOM12_TJ_CNA1']\n",
    "modlist2 = ['RIV12_PT_NC01', 'RIV12_PT_NC02', 'RIV12_PT_ER23','RIV12_PT_ER24']"
   ]
  },
  {
   "cell_type": "code",
   "execution_count": null,
   "metadata": {},
   "outputs": [],
   "source": [
    "def read_csv_data(csv_file_path):\n",
    "    data = []\n",
    "    with open(csv_file_path, 'r') as file:\n",
    "        csv_reader = csv.reader(file)\n",
    "        for row in csv_reader:\n",
    "            data.append(row)\n",
    "    return data\n",
    "\n",
    "\n",
    "# Create empty lists to store REG, bias, RMSE and WSS data for each model\n",
    "\n",
    "bias_DIC_data = {model: [] for model in modlist}\n",
    "RMSE_DIC_data = {model: [] for model in modlist}\n",
    "WSS_DIC_data = {model: [] for model in modlist}\n",
    "bias_TA_data = {model: [] for model in modlist}\n",
    "RMSE_TA_data = {model: [] for model in modlist}\n",
    "WSS_TA_data = {model: [] for model in modlist}\n",
    "bias_TADIC_data = {model: [] for model in modlist}\n",
    "RMSE_TADIC_data = {model: [] for model in modlist}\n",
    "WSS_TADIC_data = {model: [] for model in modlist}\n",
    "\n",
    "\n",
    "for model in modlist1:\n",
    "     # Build CSV file name and path\n",
    "    csv_file_name = f'{yrst}-{yrend}_{model}_bias_RMSE_WSS_mean_umolL_global.csv'\n",
    "    directory_path = os.path.join(\"/gpfs/home/gdg21vsa/ModelEvaluation/\", model)\n",
    "    csv_file_path = os.path.join(directory_path, csv_file_name)\n",
    "\n",
    "    with open(csv_file_path, 'r') as file:\n",
    "        csv_reader = csv.reader(file)\n",
    "\n",
    "        # Skip Table Header\n",
    "        headers = next(csv_reader)\n",
    "\n",
    "        for row in csv_reader:\n",
    "            # Get the column indexes of the bias and REG data, which are in columns 2 and 1, respectively\n",
    "            bias_DIC_value = float(row[12])\n",
    "            RMSE_DIC_value = float(row[12])\n",
    "            WSS_DIC_value = float(row[12])\n",
    "            bias_TA_value = float(row[13])\n",
    "            RMSE_TA_value = float(row[13])\n",
    "            WSS_TA_value = float(row[13])\n",
    "            # bias_TADIC_value = float(row[14])\n",
    "            # RMSE_TADIC_value = float(row[14])\n",
    "            # WSS_TADIC_value = float(row[14])\n",
    "\n",
    "            # Store data into a list of corresponding models\n",
    "            bias_DIC_data[model].append(bias_DIC_value)\n",
    "            RMSE_DIC_data [model].append(RMSE_DIC_value)\n",
    "            WSS_DIC_data[model].append(WSS_DIC_value)\n",
    "            bias_TA_data [model].append(bias_TA_value)\n",
    "            RMSE_TA_data [model].append(RMSE_TA_value)\n",
    "            WSS_TA_data [model].append(WSS_TA_value)\n",
    "            # bias_TADIC_data [model].append(bias_TADIC_value)\n",
    "            # RMSE_TADIC_data [model].append(RMSE_TADIC_value)\n",
    "            # WSS_TADIC_data [model].append(WSS_TADIC_value)"
   ]
  }
 ],
 "metadata": {
  "language_info": {
   "name": "python"
  },
  "orig_nbformat": 4
 },
 "nbformat": 4,
 "nbformat_minor": 2
}
